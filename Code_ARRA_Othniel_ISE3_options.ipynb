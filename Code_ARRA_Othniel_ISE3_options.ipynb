{
 "cells": [
  {
   "cell_type": "markdown",
   "id": "3b2139ff",
   "metadata": {},
   "source": [
    "# PROJET WEB SCRAPING ISE 3"
   ]
  },
  {
   "cell_type": "markdown",
   "id": "71d36296",
   "metadata": {},
   "source": [
    "#### Ce projet a pour but d'évaluer vos acquis lors du cours et de mettre en valeur les compétences acquises."
   ]
  },
  {
   "cell_type": "markdown",
   "id": "39ba623c",
   "metadata": {},
   "source": [
    "Vous êtes un Data Scientist embauché dans une grande entreprise de la place qui oeuvre dans le domaine de la publication des films. Vous avez besoin de certaines données sur les critiques des films du site **senscritique** afin de vérifier à une fréquence journalière, les données mises sur ce site.\n",
    "\n",
    "I - Votre première mission est d'accéder aux films https://www.senscritique.com/films et d'extraire :\n",
    "\n",
    "    1- Les films du moment ainsi que leurs notes\n",
    "    2- Les sortis de la semaine ainsi que leurs notes\n",
    "    3- A voir en streaming ainsi que leurs notes\n",
    "    \n",
    "    Mettre toutes ces données dans un dataframe et exporter le en xlsx.\n",
    "\n",
    "II - Ensuite, votre seconde mission est d'accéder aux critiques populaires et aux réactions populaires. Pour ceux-ci, vous devez extraire pour chaque film critiqué :\n",
    "\n",
    "    1 - Le nom de celui qui a fait la critique ;\n",
    "    2 - Le titre de la critique ;\n",
    "    3 - La note attribuée par ce dernier ;\n",
    "    4 - La date de la critique ;\n",
    "    5 - Le nombre de \"j'aime\" ;\n",
    "    6 - Le nombre de commentaires\n",
    "    7 - La photo de profil de l'auteur de la critique\n",
    "    8 - Le contenu de la critique\n",
    "        \n",
    "     Mettre toutes ces données dans un dataframe et exporter le en xlsx.\n",
    "        \n",
    "**III - Enfin, à l'aide des cours vus dans d'autres modules, faites une analyse de sentiments sur les critiques faites et les réactions.**\n",
    "\n",
    "<p style='color:darkred'><strong><i>NB : Faites une capture d'écran des Conditions Générales d'Utilisation (CGU) permettant de valider ou pas le fait de scrapper des données sur ce site.</strong></i></p>\n"
   ]
  },
  {
   "cell_type": "markdown",
   "id": "81fa7589",
   "metadata": {},
   "source": [
    "<p style='color:darkorange'><strong>INSTRUCTIONS</strong></p>\n",
    "\n",
    "Votre script doit s'exécuter chaque jour à une heure aléatoire entre **08h et 10H.**\n",
    "\n",
    "Ce travail est à faire individuellement.\n",
    "\n",
    "Vous devez répondre à toutes les questions dans un seul notebook et vous assurez que vous avez pris en compte toutes les bonnes pratiques vues au cours. Le code doit être enregistré sous le format Code_Nom_Prenoms_ISE3_options.py\n",
    "\n",
    "Les bases de données extraites doivent être sous format Excel Base_Nom_Prenoms_ISE3_mission1.xlsx & Base_Nom_Prenoms_ISE3_mission2.xlsx.\n",
    "\n",
    "La capture des Conditions Générales d'Utilisation CGU_Nom_Prenoms_ISE3_options.png et doit pouvoir être affichée dans le notebook.\n",
    "\n",
    "Le tout zippé sous un dossier nommé Nom_Prenoms.\n",
    "\n",
    "Le dossier doit être envoyé à l'adresse email : **dackounelie@gmail.com** au plus tard **Vendredi 17 Mai 2024 à 22H.**"
   ]
  },
  {
   "cell_type": "markdown",
   "id": "07bbc3ff",
   "metadata": {},
   "source": [
    "#### Bon projet à Tous !!!!"
   ]
  },
  {
   "cell_type": "code",
   "execution_count": 9,
   "id": "7ddacfdb",
   "metadata": {},
   "outputs": [],
   "source": [
    "import requests\n",
    "from bs4 import BeautifulSoup\n",
    "import pandas as pd\n",
    "from requests import get\n",
    "import numpy as np\n",
    "import nltk\n",
    "from nltk.corpus import stopwords\n",
    "from nltk.tokenize import word_tokenize\n",
    "from nltk.stem import WordNetLemmatizer\n",
    "from nltk.sentiment.vader import SentimentIntensityAnalyzer\n",
    "import re"
   ]
  },
  {
   "cell_type": "code",
   "execution_count": 3,
   "id": "a50421bf",
   "metadata": {},
   "outputs": [
    {
     "data": {
      "text/plain": [
       "200"
      ]
     },
     "execution_count": 3,
     "metadata": {},
     "output_type": "execute_result"
    }
   ],
   "source": [
    "# Vérification du code status\n",
    "response = requests.get('https://www.senscritique.com/films')\n",
    "status_code = response.status_code\n",
    "status_code"
   ]
  },
  {
   "cell_type": "code",
   "execution_count": 4,
   "id": "23d12729",
   "metadata": {},
   "outputs": [
    {
     "name": "stdout",
     "output_type": "stream",
     "text": [
      "<!DOCTYPE html><html lang=\"fr\"><head><meta charSet=\"utf-8\" /><meta name=\"viewport\" content=\"width=device-width\" /><meta name=\"robots\" content=\"index,follow,max-snippet:-1\" /><meta name=\"author\" content=\"SensCritique\" /><meta name=\"country\" content=\"France\" /><meta name=\"geo.position\" content=\"48.8685823;2.3480648\" /><meta name=\"geo.country\" content=\"FR\" /><meta name=\"ICBM\" content=\"48.8685823,2.3480648\" /><meta property=\"fb:pages\" content=\"127524802986\" /><link href=\"/app-icons/apple-touch-icon-57x57.png\" rel=\"apple-touch-icon\" sizes=\"57x57\" /><link href=\"/app-icons/apple-touch-icon-60x60.png\" rel=\"apple-touch-icon\" sizes=\"60x60\" /><link href=\"/app-icons/apple-touch-icon-72x72.png\" rel=\"apple-touch-icon\" sizes=\"72x72\" /><link href=\"/app-icons/apple-touch-icon-76x76.png\" rel=\"apple-touch-icon\" sizes=\"76x76\" /><link href=\"/app-icons/apple-touch-icon-114x114.png\" rel=\"apple-touch-icon\" sizes=\"114x114\" /><link href=\"/app-icons/apple-touch-icon-120x120.png\" rel=\"apple-touch-icon\" sizes=\"120x120\" /><link href=\"/app-icons/apple-touch-icon-144x144.png\" rel=\"apple-touch-icon\" sizes=\"144x144\" /><link href=\"/app-icons/apple-touch-icon-152x152.png\" rel=\"apple-touch-icon\" sizes=\"152x152\" /><lin\n"
     ]
    }
   ],
   "source": [
    "url = 'https://www.senscritique.com/films'\n",
    "response = get(url)\n",
    "print(response.text[:1200])"
   ]
  },
  {
   "cell_type": "markdown",
   "id": "e65d90c0",
   "metadata": {},
   "source": [
    "# MISSION 1"
   ]
  },
  {
   "cell_type": "markdown",
   "id": "9ae60f30",
   "metadata": {},
   "source": [
    "## Films du moment"
   ]
  },
  {
   "cell_type": "code",
   "execution_count": 5,
   "id": "8f275cf5",
   "metadata": {},
   "outputs": [],
   "source": [
    "url1 = \"https://www.senscritique.com/films/toujours-a-l-affiche\"\n",
    "response = get(url1)\n",
    "page1 = response.content\n",
    "soup = BeautifulSoup(page1, 'html.parser')\n",
    "all_films_moment = soup.find_all(class_ =\"sc-f52bf7ce-0 drGGMe sc-28c72235-1 eVgUeC\")"
   ]
  },
  {
   "cell_type": "code",
   "execution_count": 6,
   "id": "f7a089e6",
   "metadata": {},
   "outputs": [],
   "source": [
    "noms_films_moment = []\n",
    "note_films_moment = []\n",
    "\n",
    "for element in all_films_moment:\n",
    "    if element.find(class_ = \"sc-8251ce8c-5 fTXQip\") != None:\n",
    "        rate = float(element.find(class_ = \"sc-8251ce8c-5 fTXQip\").text)\n",
    "        note_films_moment.append(rate)\n",
    "    else:\n",
    "        note_films_moment.append(np.nan)\n",
    "    nom = element.find(class_ = \"sc-e6f263fc-0 sc-df6b780a-1 cTWuvs lbhoSA\").text\n",
    "    noms_films_moment.append(nom)"
   ]
  },
  {
   "cell_type": "markdown",
   "id": "aeffceec",
   "metadata": {},
   "source": [
    "## Sorties de la semaine"
   ]
  },
  {
   "cell_type": "code",
   "execution_count": 7,
   "id": "e50dc37e",
   "metadata": {},
   "outputs": [],
   "source": [
    "url2 = \"https://www.senscritique.com/films/cette-semaine\"\n",
    "response = get(url2)\n",
    "page2 = response.content\n",
    "soup2 = BeautifulSoup(page2, 'html.parser')"
   ]
  },
  {
   "cell_type": "code",
   "execution_count": 10,
   "id": "36a9de19",
   "metadata": {},
   "outputs": [
    {
     "name": "stderr",
     "output_type": "stream",
     "text": [
      "C:\\Users\\yanno\\AppData\\Local\\Temp\\ipykernel_4592\\3774709640.py:1: DeprecationWarning: The 'text' argument to find()-type methods is deprecated. Use 'string' instead.\n",
      "  script_tag = soup2.find('script', text=re.compile(r'__APOLLO_STATE__'))\n"
     ]
    }
   ],
   "source": [
    "script_tag = soup2.find('script', text=re.compile(r'__APOLLO_STATE__'))\n",
    "script_content = script_tag.string\n",
    "groupe = \"__APOLLO_STATE__\"\n",
    "pattern = re.escape(groupe) + r'(.*)'\n",
    "match = re.search(pattern, script_content)\n",
    "result = match.group(1).strip()\n",
    "nom_sorties_de_la_semaine = re.findall(r'\"title\":\"(.*?)\"', result)\n",
    "note_sorties_de_la_semaine = re.findall(r'\"rating\":(.*?)(?:,|})', result)"
   ]
  },
  {
   "cell_type": "markdown",
   "id": "0d3de1ce",
   "metadata": {},
   "source": [
    "## A voir en streaming"
   ]
  },
  {
   "cell_type": "code",
   "execution_count": 11,
   "id": "4ae1de56",
   "metadata": {},
   "outputs": [],
   "source": [
    "url3 = \"https://www.senscritique.com/films/streaming\"\n",
    "response = get(url3)\n",
    "page3 = response.content\n",
    "soup = BeautifulSoup(page3, 'html.parser')\n",
    "all_films_a_voir = soup.find_all(class_ =\"sc-ee95228d-5 enEfMN\")"
   ]
  },
  {
   "cell_type": "code",
   "execution_count": 12,
   "id": "19c41cbc",
   "metadata": {},
   "outputs": [],
   "source": [
    "noms_films_a_voir = []\n",
    "note_films_a_voir = []\n",
    "\n",
    "for element in all_films_a_voir:\n",
    "    if element.find(class_ = \"sc-8251ce8c-5 bVyLNx globalRating\") != None:\n",
    "        rate = float(element.find(class_ = \"sc-8251ce8c-5 bVyLNx globalRating\").text)\n",
    "        note_films_a_voir.append(rate)\n",
    "    else:\n",
    "        note_films_a_voir.append(np.nan)\n",
    "    nom = element.find(class_ = \"sc-e6f263fc-0 sc-ee95228d-1 GItpw gJUtFN\").text\n",
    "    noms_films_a_voir.append(nom)"
   ]
  },
  {
   "cell_type": "code",
   "execution_count": 13,
   "id": "9856d16c",
   "metadata": {},
   "outputs": [
    {
     "data": {
      "text/html": [
       "<div>\n",
       "<style scoped>\n",
       "    .dataframe tbody tr th:only-of-type {\n",
       "        vertical-align: middle;\n",
       "    }\n",
       "\n",
       "    .dataframe tbody tr th {\n",
       "        vertical-align: top;\n",
       "    }\n",
       "\n",
       "    .dataframe thead th {\n",
       "        text-align: right;\n",
       "    }\n",
       "</style>\n",
       "<table border=\"1\" class=\"dataframe\">\n",
       "  <thead>\n",
       "    <tr style=\"text-align: right;\">\n",
       "      <th></th>\n",
       "      <th>Catégorie</th>\n",
       "      <th>Nom du film</th>\n",
       "      <th>Note</th>\n",
       "    </tr>\n",
       "  </thead>\n",
       "  <tbody>\n",
       "    <tr>\n",
       "      <th>0</th>\n",
       "      <td>Films du moment</td>\n",
       "      <td>Le Deuxième Acte</td>\n",
       "      <td>6.3</td>\n",
       "    </tr>\n",
       "    <tr>\n",
       "      <th>1</th>\n",
       "      <td>Films du moment</td>\n",
       "      <td>Challengers</td>\n",
       "      <td>6.6</td>\n",
       "    </tr>\n",
       "    <tr>\n",
       "      <th>2</th>\n",
       "      <td>Films du moment</td>\n",
       "      <td>La Planète des singes - Le Nouveau Royaume</td>\n",
       "      <td>6.5</td>\n",
       "    </tr>\n",
       "    <tr>\n",
       "      <th>3</th>\n",
       "      <td>Films du moment</td>\n",
       "      <td>Un p'tit truc en plus</td>\n",
       "      <td>6.8</td>\n",
       "    </tr>\n",
       "    <tr>\n",
       "      <th>4</th>\n",
       "      <td>Films du moment</td>\n",
       "      <td>The Fall Guy</td>\n",
       "      <td>6.5</td>\n",
       "    </tr>\n",
       "    <tr>\n",
       "      <th>...</th>\n",
       "      <td>...</td>\n",
       "      <td>...</td>\n",
       "      <td>...</td>\n",
       "    </tr>\n",
       "    <tr>\n",
       "      <th>63</th>\n",
       "      <td>Films à voir en streaming</td>\n",
       "      <td>Adagio</td>\n",
       "      <td>6.9</td>\n",
       "    </tr>\n",
       "    <tr>\n",
       "      <th>64</th>\n",
       "      <td>Films à voir en streaming</td>\n",
       "      <td>Unfrosted - L'épopée de la Pop-Tart</td>\n",
       "      <td>4.5</td>\n",
       "    </tr>\n",
       "    <tr>\n",
       "      <th>65</th>\n",
       "      <td>Films à voir en streaming</td>\n",
       "      <td>Baghead</td>\n",
       "      <td>4.9</td>\n",
       "    </tr>\n",
       "    <tr>\n",
       "      <th>66</th>\n",
       "      <td>Films à voir en streaming</td>\n",
       "      <td>Baby Ruby</td>\n",
       "      <td>5.4</td>\n",
       "    </tr>\n",
       "    <tr>\n",
       "      <th>67</th>\n",
       "      <td>Films à voir en streaming</td>\n",
       "      <td>Puppy Love</td>\n",
       "      <td>5.4</td>\n",
       "    </tr>\n",
       "  </tbody>\n",
       "</table>\n",
       "<p>68 rows × 3 columns</p>\n",
       "</div>"
      ],
      "text/plain": [
       "                    Catégorie                                 Nom du film Note\n",
       "0             Films du moment                            Le Deuxième Acte  6.3\n",
       "1             Films du moment                                 Challengers  6.6\n",
       "2             Films du moment  La Planète des singes - Le Nouveau Royaume  6.5\n",
       "3             Films du moment                       Un p'tit truc en plus  6.8\n",
       "4             Films du moment                                The Fall Guy  6.5\n",
       "..                        ...                                         ...  ...\n",
       "63  Films à voir en streaming                                      Adagio  6.9\n",
       "64  Films à voir en streaming         Unfrosted - L'épopée de la Pop-Tart  4.5\n",
       "65  Films à voir en streaming                                     Baghead  4.9\n",
       "66  Films à voir en streaming                                   Baby Ruby  5.4\n",
       "67  Films à voir en streaming                                  Puppy Love  5.4\n",
       "\n",
       "[68 rows x 3 columns]"
      ]
     },
     "execution_count": 13,
     "metadata": {},
     "output_type": "execute_result"
    }
   ],
   "source": [
    "# Créer du dataframe contenant les données des films\n",
    "films_data = {\n",
    "    'Films du moment': {\n",
    "        'Nom du film': noms_films_moment,\n",
    "        'Note': note_films_moment\n",
    "    },\n",
    "    'Sorties de la semaine': {\n",
    "        'Nom du film': nom_sorties_de_la_semaine,\n",
    "        'Note': note_sorties_de_la_semaine\n",
    "    },\n",
    "    'Films à voir en streaming': {\n",
    "        'Nom du film': noms_films_a_voir,\n",
    "        'Note': note_films_a_voir\n",
    "    }\n",
    "}\n",
    "\n",
    "# Créer une liste de dictionnaires pour chaque catégorie de films\n",
    "category_dicts = []\n",
    "for category, films in films_data.items():\n",
    "    category_dict = {'Catégorie': [category] * len(films['Nom du film']),\n",
    "                     'Nom du film': films['Nom du film'],\n",
    "                     'Note': films['Note']}\n",
    "    category_dicts.append(category_dict)\n",
    "\n",
    "# Concaténer les dictionnaires en un seul DataFrame\n",
    "df_films = pd.concat([pd.DataFrame(category_dict) for category_dict in category_dicts], ignore_index=True)\n",
    "\n",
    "# Afficher le DataFrame\n",
    "df_films"
   ]
  },
  {
   "cell_type": "markdown",
   "id": "c5b11c9a",
   "metadata": {},
   "source": [
    "# Exportation du DataFrame dans un fichier Excel"
   ]
  },
  {
   "cell_type": "code",
   "execution_count": 14,
   "id": "4796692d",
   "metadata": {},
   "outputs": [],
   "source": [
    "with pd.ExcelWriter('Base_ARRA_Othniel_ISE3_mission1.xlsx') as writer:\n",
    "    df_films.to_excel(writer, sheet_name='Films_et_leurs_notes', index=False)"
   ]
  },
  {
   "cell_type": "markdown",
   "id": "440a5369",
   "metadata": {},
   "source": [
    "# MISSION 2"
   ]
  },
  {
   "cell_type": "code",
   "execution_count": 15,
   "id": "fd0674e8",
   "metadata": {},
   "outputs": [],
   "source": [
    "url = 'https://www.senscritique.com/films'\n",
    "response = get(url)\n",
    "page = response.content\n",
    "soup = BeautifulSoup(page, 'html.parser')\n",
    "all_comments = soup.find_all(class_ =\"sc-328d61f-0 fARllz sc-d36dcab1-0 hOLUBG\")\n",
    "all_reactions = soup.find_all(class_=\"sc-328d61f-0 fARllz sc-def8c7bf-0 kEKJHJ\")"
   ]
  },
  {
   "cell_type": "code",
   "execution_count": 16,
   "id": "1b3520ac",
   "metadata": {},
   "outputs": [],
   "source": [
    "noms_des_films_critiques = []\n",
    "noms_des_critiqueurs = []\n",
    "titre_critique = []\n",
    "note_attribuee = []\n",
    "date_critique = []\n",
    "nbre_jaime = []\n",
    "nombre_commentaire = []\n",
    "photo_de_profil = []\n",
    "contenu_critique = []\n",
    "\n",
    "noms_des_films_r = []\n",
    "noms_des_reacteurs = []\n",
    "titre_reaction = []\n",
    "date_reaction = []\n",
    "nbre_jaime2 = []\n",
    "nombre_commentaire2 = []\n",
    "photo_de_profil2 = []\n",
    "contenu_reaction = []\n",
    "\n",
    "# Critiques populaires\n",
    "section_0 = all_comments[0].find_all(class_ = \"sc-328d61f-4 fdFAPT\")\n",
    "for element in section_0:\n",
    "    nom_films = element.find(class_ = \"sc-e6f263fc-0 sc-df6b780a-1 iZcnfG lbhoSA\").text\n",
    "    noms_des_films_critiques.append(nom_films)\n",
    "    critiqueurs = element.find(class_ = \"sc-e6f263fc-0 sc-b7da4c5c-2 GItpw gvGKDY\").text\n",
    "    noms_des_critiqueurs.append(critiqueurs) \n",
    "    titres = element.find(class_ =\"sc-e6f263fc-0 sc-4db36029-4 bTynbZ irayCk\").text\n",
    "    titre_critique.append(titres)\n",
    "    notes = element.find(class_ = \"sc-8251ce8c-3 gbAIun sc-4db36029-3 iepouY\").text\n",
    "    note_attribuee.append(notes)\n",
    "    dates = element.find(class_ = \"sc-e6f263fc-0 sc-3b5d9ff1-0 GItpw dOiIbg\").text\n",
    "    date_critique.append(dates)\n",
    "    if element.find(class_ = \"sc-e6f263fc-0 sc-8d1083e0-1 GItpw XTOao\") != None:\n",
    "        jaimes = element.find(class_ = \"sc-e6f263fc-0 sc-8d1083e0-1 GItpw XTOao\").text\n",
    "        nbre_jaime.append(jaimes)\n",
    "    else:\n",
    "        nbre_jaime.append(\"0 j'aime\")\n",
    "    if element.find(class_ = \"sc-e6f263fc-0 sc-3fcb6f61-1 GItpw djcKen\") != None:\n",
    "        commentaires = element.find(class_ = \"sc-e6f263fc-0 sc-3fcb6f61-1 GItpw djcKen\").text\n",
    "        nombre_commentaire.append(commentaires)\n",
    "    else:\n",
    "        nombre_commentaire.append(0)\n",
    "    photos = element.find(\"div\", class_ = \"sc-1a97d7be-0 gFHNhq\")\n",
    "    photos = photos.find(\"a\", class_ = \"sc-1a97d7be-3 fZBrFn\")\n",
    "    if photos != None:\n",
    "        photo_links = photos.get(\"data-srcname\")\n",
    "        photo_de_profil.append(photo_links)\n",
    "    else:\n",
    "        photo_de_profil.append(np.nan)\n",
    "    critiques = element.find(class_ = \"sc-e6f263fc-2 ewlOkV\").text\n",
    "    contenu_critique.append(critiques)\n",
    "\n",
    "\n",
    "    \n",
    "# Réactions populaires\n",
    "section_1 = all_reactions[0].find_all(class_ = \"sc-328d61f-4 fdFAPT\")\n",
    "for element in section_1:\n",
    "    nom_films = element.find(class_ = \"sc-e6f263fc-0 iZcnfI\").text\n",
    "    noms_des_films_r.append(nom_films)\n",
    "    dates = element.find(class_ = \"sc-e6f263fc-0 sc-3b5d9ff1-0 GItpw dOiIbg\").text\n",
    "    date_reaction.append(dates)\n",
    "    if element.find(class_ = \"sc-e6f263fc-0 sc-8d1083e0-1 GItpw XTOao\") != None:\n",
    "        jaimes = element.find(class_ = \"sc-e6f263fc-0 sc-8d1083e0-1 GItpw XTOao\").text\n",
    "        nbre_jaime2.append(jaimes)\n",
    "    else:\n",
    "        nbre_jaime2.append(\"0 j'aime\")\n",
    "    if element.find(class_ = \"sc-e6f263fc-0 sc-3fcb6f61-1 GItpw djcKen\") != None:\n",
    "        commentaires = element.find(class_ = \"sc-e6f263fc-0 sc-3fcb6f61-1 GItpw djcKen\").text\n",
    "        nombre_commentaire2.append(commentaires)\n",
    "    else:\n",
    "        nombre_commentaire2.append(0)\n",
    "    critiques = element.find(class_ = \"sc-1e6d9d58-0 dnxDDB sc-6687e0c2-6 bByzmL\").text\n",
    "    contenu_reaction.append(critiques)\n",
    "    \n",
    "    \n",
    "df_critiques = pd.DataFrame(\n",
    "    {'Films critiqués': noms_des_films_critiques, \n",
    "     'Critiqueurs': noms_des_critiqueurs,\n",
    "     'Titre des critiques' : titre_critique,\n",
    "     'Note attribuée' : note_attribuee,\n",
    "     'Date de la critique' : date_critique,\n",
    "     'Nombre de j''aime' : nbre_jaime,\n",
    "     'Nombre de commentaire' : nombre_commentaire,\n",
    "     'Photo' : photo_de_profil,\n",
    "     'Contenu des critiques' : contenu_critique\n",
    "    }\n",
    ")\n",
    "\n",
    "df_reactions = pd.DataFrame(\n",
    "    {'Films ayant des réactions': noms_des_films_r, \n",
    "     'Date de la critique' : date_reaction,\n",
    "     'Nombre de j''aime' : nbre_jaime2,\n",
    "     'Nombre de commentaire' : nombre_commentaire2,\n",
    "     #'Photo' : photo_de_profil2,\n",
    "     'Contenu des critiques' : contenu_reaction\n",
    "    }\n",
    ")\n"
   ]
  },
  {
   "cell_type": "markdown",
   "id": "60d30239",
   "metadata": {},
   "source": [
    "# Exportation des DataFrames dans un fichier Excel"
   ]
  },
  {
   "cell_type": "code",
   "execution_count": 17,
   "id": "6dcf7720",
   "metadata": {},
   "outputs": [],
   "source": [
    "with pd.ExcelWriter('Base_ARRA_Othniel_ISE3_mission2.xlsx') as writer:\n",
    "    df_critiques.to_excel(writer, sheet_name='Critiques', index=False)\n",
    "    df_reactions.to_excel(writer, sheet_name='Reactions', index=False)"
   ]
  },
  {
   "cell_type": "markdown",
   "id": "d95f7c9e",
   "metadata": {},
   "source": [
    "# Analyse des sentiments"
   ]
  },
  {
   "cell_type": "code",
   "execution_count": 18,
   "id": "32a24a1d",
   "metadata": {},
   "outputs": [],
   "source": [
    "def preprocess_text(text):\n",
    "    text = text.lower()\n",
    "    words = word_tokenize(text)\n",
    "    words = [word for word in words if word.isalnum() and word not in stopwords.words('french')]\n",
    "    lemmatizer = WordNetLemmatizer()\n",
    "    words = [lemmatizer.lemmatize(word) for word in words]\n",
    "    preprocessed_text = ' '.join(words)\n",
    "    return preprocessed_text"
   ]
  },
  {
   "cell_type": "code",
   "execution_count": 19,
   "id": "15200bf0",
   "metadata": {},
   "outputs": [],
   "source": [
    "# Prétraitement des critiques et réactions\n",
    "preprocessed_critiques = [preprocess_text(critique) for critique in contenu_critique]\n",
    "preprocessed_reactions = [preprocess_text(reaction) for reaction in contenu_reaction]"
   ]
  },
  {
   "cell_type": "code",
   "execution_count": 20,
   "id": "f14a5d1e",
   "metadata": {},
   "outputs": [
    {
     "name": "stdout",
     "output_type": "stream",
     "text": [
      "### Critiques ###\n",
      "                                           Critiques Sentiment\n",
      "0  Je vous demande pardon d'avoir décroché cette ...   Positif\n",
      "1  On pouvait s’étonner de l’absence de Dupieux à...    Neutre\n",
      "2  Celles et ceux qui sont des fans du cinéma du ...   Positif\n",
      "\n",
      "### Réactions ###\n",
      "                                           Réactions Sentiment\n",
      "0  On s'en doutait, les critiques cannoises se dé...   Negatif\n",
      "1  Où le peuple SC commence à se rendre compte de...    Neutre\n",
      "2  Sortie par Metropolitan le 3 juillet. 2ème par...    Neutre\n"
     ]
    }
   ],
   "source": [
    "# Analyse de sentiment\n",
    "sia = SentimentIntensityAnalyzer()\n",
    "\n",
    "def analyse_sentiment(text):\n",
    "    scores = sia.polarity_scores(text)\n",
    "    if scores['compound'] >= 0.05:\n",
    "        return 'Positif'\n",
    "    elif scores['compound'] <= -0.05:\n",
    "        return 'Negatif'\n",
    "    else:\n",
    "        return 'Neutre'\n",
    "\n",
    "# Analyse de sentiment des critiques\n",
    "sentiments_critiques = [analyse_sentiment(critique) for critique in preprocessed_critiques]\n",
    "\n",
    "# Analyse de sentiment des réactions\n",
    "sentiments_reactions = [analyse_sentiment(reaction) for reaction in preprocessed_reactions]\n",
    "\n",
    "# Création des DataFrames\n",
    "df_critiques = pd.DataFrame({\n",
    "    'Critiques': contenu_critique,\n",
    "    'Sentiment': sentiments_critiques\n",
    "})\n",
    "\n",
    "df_reactions = pd.DataFrame({\n",
    "    'Réactions': contenu_reaction,\n",
    "    'Sentiment': sentiments_reactions\n",
    "})\n",
    "\n",
    "# Affichage des résultats\n",
    "print(\"### Critiques ###\")\n",
    "print(df_critiques)\n",
    "print(\"\\n### Réactions ###\")\n",
    "print(df_reactions)"
   ]
  }
 ],
 "metadata": {
  "kernelspec": {
   "display_name": "Python 3 (ipykernel)",
   "language": "python",
   "name": "python3"
  },
  "language_info": {
   "codemirror_mode": {
    "name": "ipython",
    "version": 3
   },
   "file_extension": ".py",
   "mimetype": "text/x-python",
   "name": "python",
   "nbconvert_exporter": "python",
   "pygments_lexer": "ipython3",
   "version": "3.11.5"
  }
 },
 "nbformat": 4,
 "nbformat_minor": 5
}
